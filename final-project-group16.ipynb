{
 "cells": [
  {
   "cell_type": "markdown",
   "metadata": {},
   "source": [
    "# CSCI2000U - Scientific Data Analysis\n",
    "# Final Project: **NBA MVP Predictor**\n",
    "\n",
    "## **Project Group 16**\n",
    "* **Hasan Chakaroun** - 100788546\n",
    "* **Mohammad** - 100755461\n",
    "* **Preet Panchal** - 100707094\n",
    "* **Eihab Syed** - 100707448\n",
    "\n",
    "### **Dataset Selected:** ###\n",
    "- **Name:** NBA Players Data - all_seasons.csv\n",
    "&nbsp;\n",
    "- **Source:** https://www.kaggle.com/justinas/nba-players-data\n",
    "&nbsp;\n",
    "- **Reference:** Cirtautas, J. (2021, August 2). NBA players. Kaggle. Retrieved November 26, 2021, from https://www.kaggle.com/justinas/nba-players-data. \n",
    "&nbsp;\n",
    "- **Creator:** Justinas Cirtautas, Data Scientist\n"
   ]
  },
  {
   "cell_type": "markdown",
   "metadata": {},
   "source": [
    "## **INTRODUCTION**"
   ]
  },
  {
   "cell_type": "markdown",
   "metadata": {},
   "source": [
    "## **DESCRIPTION OF DATASET**"
   ]
  },
  {
   "cell_type": "markdown",
   "metadata": {},
   "source": [
    "## **ANALYSIS OF DATASET**"
   ]
  },
  {
   "cell_type": "code",
   "execution_count": 22,
   "metadata": {},
   "outputs": [
    {
     "name": "stdout",
     "output_type": "stream",
     "text": [
      "Requirement already satisfied: seaborn in /Library/Frameworks/Python.framework/Versions/3.9/lib/python3.9/site-packages (0.11.2)\n",
      "Requirement already satisfied: scipy>=1.0 in /Library/Frameworks/Python.framework/Versions/3.9/lib/python3.9/site-packages (from seaborn) (1.7.1)\n",
      "Requirement already satisfied: numpy>=1.15 in /Library/Frameworks/Python.framework/Versions/3.9/lib/python3.9/site-packages (from seaborn) (1.21.2)\n",
      "Requirement already satisfied: matplotlib>=2.2 in /Library/Frameworks/Python.framework/Versions/3.9/lib/python3.9/site-packages (from seaborn) (3.5.0)\n",
      "Requirement already satisfied: pandas>=0.23 in /Library/Frameworks/Python.framework/Versions/3.9/lib/python3.9/site-packages (from seaborn) (1.3.4)\n",
      "Requirement already satisfied: pyparsing>=2.2.1 in /Library/Frameworks/Python.framework/Versions/3.9/lib/python3.9/site-packages (from matplotlib>=2.2->seaborn) (3.0.6)\n",
      "Requirement already satisfied: cycler>=0.10 in /Library/Frameworks/Python.framework/Versions/3.9/lib/python3.9/site-packages (from matplotlib>=2.2->seaborn) (0.11.0)\n",
      "Requirement already satisfied: packaging>=20.0 in /Library/Frameworks/Python.framework/Versions/3.9/lib/python3.9/site-packages (from matplotlib>=2.2->seaborn) (21.3)\n",
      "Requirement already satisfied: kiwisolver>=1.0.1 in /Library/Frameworks/Python.framework/Versions/3.9/lib/python3.9/site-packages (from matplotlib>=2.2->seaborn) (1.3.2)\n",
      "Requirement already satisfied: setuptools-scm>=4 in /Library/Frameworks/Python.framework/Versions/3.9/lib/python3.9/site-packages (from matplotlib>=2.2->seaborn) (6.3.2)\n",
      "Requirement already satisfied: pillow>=6.2.0 in /Library/Frameworks/Python.framework/Versions/3.9/lib/python3.9/site-packages (from matplotlib>=2.2->seaborn) (8.4.0)\n",
      "Requirement already satisfied: python-dateutil>=2.7 in /Library/Frameworks/Python.framework/Versions/3.9/lib/python3.9/site-packages (from matplotlib>=2.2->seaborn) (2.8.2)\n",
      "Requirement already satisfied: fonttools>=4.22.0 in /Library/Frameworks/Python.framework/Versions/3.9/lib/python3.9/site-packages (from matplotlib>=2.2->seaborn) (4.28.1)\n",
      "Requirement already satisfied: pytz>=2017.3 in /Library/Frameworks/Python.framework/Versions/3.9/lib/python3.9/site-packages (from pandas>=0.23->seaborn) (2021.3)\n",
      "Requirement already satisfied: six>=1.5 in /Library/Frameworks/Python.framework/Versions/3.9/lib/python3.9/site-packages (from python-dateutil>=2.7->matplotlib>=2.2->seaborn) (1.16.0)\n",
      "Requirement already satisfied: tomli>=1.0.0 in /Library/Frameworks/Python.framework/Versions/3.9/lib/python3.9/site-packages (from setuptools-scm>=4->matplotlib>=2.2->seaborn) (1.2.2)\n",
      "Requirement already satisfied: setuptools in /Library/Frameworks/Python.framework/Versions/3.9/lib/python3.9/site-packages (from setuptools-scm>=4->matplotlib>=2.2->seaborn) (56.0.0)\n"
     ]
    }
   ],
   "source": [
    "# importing used libraries\n",
    "import csv\n",
    "import re\n",
    "import pandas as pd\n",
    "from functools import reduce\n",
    "import numpy as np\n",
    "import calendar\n",
    "import string\n",
    "import matplotlib.pyplot as plt\n",
    "from datetime import datetime as dt\n",
    "\n",
    "# importing seaborn\n",
    "import sys\n",
    "!{sys.executable} -m pip install seaborn\n",
    "import seaborn as sns\n",
    "\n",
    "\n",
    "# this aux function reads the CSV file and returns the data in a Python dictionary\n",
    "def get_data_csv():\n",
    "    collection = []\n",
    "    with open('all_seasons.csv', 'r') as f:\n",
    "        for line in csv.DictReader(f):\n",
    "            collection.append(line)\n",
    "        return collection\n",
    "        \n",
    "# the data    \n",
    "data = get_data_csv()\n",
    "# the dataframe\n",
    "df = pd.DataFrame(data) \n",
    "df"
   ]
  },
  {
   "cell_type": "markdown",
   "metadata": {},
   "source": [
    "### **Quality of Dataset:**\n",
    "- "
   ]
  },
  {
   "cell_type": "markdown",
   "metadata": {},
   "source": [
    "### **Data Cleaning:** "
   ]
  },
  {
   "cell_type": "code",
   "execution_count": 23,
   "metadata": {},
   "outputs": [
    {
     "data": {
      "text/html": [
       "<div>\n",
       "<style scoped>\n",
       "    .dataframe tbody tr th:only-of-type {\n",
       "        vertical-align: middle;\n",
       "    }\n",
       "\n",
       "    .dataframe tbody tr th {\n",
       "        vertical-align: top;\n",
       "    }\n",
       "\n",
       "    .dataframe thead th {\n",
       "        text-align: right;\n",
       "    }\n",
       "</style>\n",
       "<table border=\"1\" class=\"dataframe\">\n",
       "  <thead>\n",
       "    <tr style=\"text-align: right;\">\n",
       "      <th></th>\n",
       "      <th>player_name</th>\n",
       "      <th>team_abbreviation</th>\n",
       "      <th>age</th>\n",
       "      <th>player_height</th>\n",
       "      <th>player_weight</th>\n",
       "      <th>college</th>\n",
       "      <th>country</th>\n",
       "      <th>draft_year</th>\n",
       "      <th>draft_round</th>\n",
       "      <th>draft_number</th>\n",
       "      <th>...</th>\n",
       "      <th>pts</th>\n",
       "      <th>reb</th>\n",
       "      <th>ast</th>\n",
       "      <th>net_rating</th>\n",
       "      <th>oreb_pct</th>\n",
       "      <th>dreb_pct</th>\n",
       "      <th>usg_pct</th>\n",
       "      <th>ts_pct</th>\n",
       "      <th>ast_pct</th>\n",
       "      <th>season</th>\n",
       "    </tr>\n",
       "  </thead>\n",
       "  <tbody>\n",
       "    <tr>\n",
       "      <th>0</th>\n",
       "      <td>Travis Knight</td>\n",
       "      <td>LAL</td>\n",
       "      <td>22.0</td>\n",
       "      <td>213.36</td>\n",
       "      <td>106.59411999999999</td>\n",
       "      <td>Connecticut</td>\n",
       "      <td>USA</td>\n",
       "      <td>1996</td>\n",
       "      <td>1</td>\n",
       "      <td>29</td>\n",
       "      <td>...</td>\n",
       "      <td>4.8</td>\n",
       "      <td>4.5</td>\n",
       "      <td>0.5</td>\n",
       "      <td>6.2</td>\n",
       "      <td>0.127</td>\n",
       "      <td>0.182</td>\n",
       "      <td>0.142</td>\n",
       "      <td>0.536</td>\n",
       "      <td>0.052000000000000005</td>\n",
       "      <td>1996-97</td>\n",
       "    </tr>\n",
       "    <tr>\n",
       "      <th>1</th>\n",
       "      <td>Matt Fish</td>\n",
       "      <td>MIA</td>\n",
       "      <td>27.0</td>\n",
       "      <td>210.82</td>\n",
       "      <td>106.59411999999999</td>\n",
       "      <td>North Carolina-Wilmington</td>\n",
       "      <td>USA</td>\n",
       "      <td>1992</td>\n",
       "      <td>2</td>\n",
       "      <td>50</td>\n",
       "      <td>...</td>\n",
       "      <td>0.3</td>\n",
       "      <td>0.8</td>\n",
       "      <td>0.0</td>\n",
       "      <td>-15.1</td>\n",
       "      <td>0.14300000000000002</td>\n",
       "      <td>0.267</td>\n",
       "      <td>0.265</td>\n",
       "      <td>0.33299999999999996</td>\n",
       "      <td>0.0</td>\n",
       "      <td>1996-97</td>\n",
       "    </tr>\n",
       "    <tr>\n",
       "      <th>2</th>\n",
       "      <td>Matt Bullard</td>\n",
       "      <td>HOU</td>\n",
       "      <td>30.0</td>\n",
       "      <td>208.28</td>\n",
       "      <td>106.59411999999999</td>\n",
       "      <td>Iowa</td>\n",
       "      <td>USA</td>\n",
       "      <td>Undrafted</td>\n",
       "      <td>Undrafted</td>\n",
       "      <td>Undrafted</td>\n",
       "      <td>...</td>\n",
       "      <td>4.5</td>\n",
       "      <td>1.6</td>\n",
       "      <td>0.9</td>\n",
       "      <td>0.9</td>\n",
       "      <td>0.016</td>\n",
       "      <td>0.115</td>\n",
       "      <td>0.151</td>\n",
       "      <td>0.535</td>\n",
       "      <td>0.099</td>\n",
       "      <td>1996-97</td>\n",
       "    </tr>\n",
       "    <tr>\n",
       "      <th>3</th>\n",
       "      <td>Marty Conlon</td>\n",
       "      <td>BOS</td>\n",
       "      <td>29.0</td>\n",
       "      <td>210.82</td>\n",
       "      <td>111.13004</td>\n",
       "      <td>Providence</td>\n",
       "      <td>USA</td>\n",
       "      <td>Undrafted</td>\n",
       "      <td>Undrafted</td>\n",
       "      <td>Undrafted</td>\n",
       "      <td>...</td>\n",
       "      <td>7.8</td>\n",
       "      <td>4.4</td>\n",
       "      <td>1.4</td>\n",
       "      <td>-9.0</td>\n",
       "      <td>0.083</td>\n",
       "      <td>0.152</td>\n",
       "      <td>0.16699999999999998</td>\n",
       "      <td>0.542</td>\n",
       "      <td>0.10099999999999999</td>\n",
       "      <td>1996-97</td>\n",
       "    </tr>\n",
       "    <tr>\n",
       "      <th>4</th>\n",
       "      <td>Martin Muursepp</td>\n",
       "      <td>DAL</td>\n",
       "      <td>22.0</td>\n",
       "      <td>205.74</td>\n",
       "      <td>106.59411999999999</td>\n",
       "      <td>None</td>\n",
       "      <td>USA</td>\n",
       "      <td>1996</td>\n",
       "      <td>1</td>\n",
       "      <td>25</td>\n",
       "      <td>...</td>\n",
       "      <td>3.7</td>\n",
       "      <td>1.6</td>\n",
       "      <td>0.5</td>\n",
       "      <td>-14.5</td>\n",
       "      <td>0.109</td>\n",
       "      <td>0.11800000000000001</td>\n",
       "      <td>0.233</td>\n",
       "      <td>0.48200000000000004</td>\n",
       "      <td>0.114</td>\n",
       "      <td>1996-97</td>\n",
       "    </tr>\n",
       "  </tbody>\n",
       "</table>\n",
       "<p>5 rows × 21 columns</p>\n",
       "</div>"
      ],
      "text/plain": [
       "       player_name team_abbreviation   age player_height       player_weight  \\\n",
       "0    Travis Knight               LAL  22.0        213.36  106.59411999999999   \n",
       "1        Matt Fish               MIA  27.0        210.82  106.59411999999999   \n",
       "2     Matt Bullard               HOU  30.0        208.28  106.59411999999999   \n",
       "3     Marty Conlon               BOS  29.0        210.82           111.13004   \n",
       "4  Martin Muursepp               DAL  22.0        205.74  106.59411999999999   \n",
       "\n",
       "                     college country draft_year draft_round draft_number  ...  \\\n",
       "0                Connecticut     USA       1996           1           29  ...   \n",
       "1  North Carolina-Wilmington     USA       1992           2           50  ...   \n",
       "2                       Iowa     USA  Undrafted   Undrafted    Undrafted  ...   \n",
       "3                 Providence     USA  Undrafted   Undrafted    Undrafted  ...   \n",
       "4                       None     USA       1996           1           25  ...   \n",
       "\n",
       "   pts  reb  ast net_rating             oreb_pct             dreb_pct  \\\n",
       "0  4.8  4.5  0.5        6.2                0.127                0.182   \n",
       "1  0.3  0.8  0.0      -15.1  0.14300000000000002                0.267   \n",
       "2  4.5  1.6  0.9        0.9                0.016                0.115   \n",
       "3  7.8  4.4  1.4       -9.0                0.083                0.152   \n",
       "4  3.7  1.6  0.5      -14.5                0.109  0.11800000000000001   \n",
       "\n",
       "               usg_pct               ts_pct               ast_pct   season  \n",
       "0                0.142                0.536  0.052000000000000005  1996-97  \n",
       "1                0.265  0.33299999999999996                   0.0  1996-97  \n",
       "2                0.151                0.535                 0.099  1996-97  \n",
       "3  0.16699999999999998                0.542   0.10099999999999999  1996-97  \n",
       "4                0.233  0.48200000000000004                 0.114  1996-97  \n",
       "\n",
       "[5 rows x 21 columns]"
      ]
     },
     "execution_count": 23,
     "metadata": {},
     "output_type": "execute_result"
    }
   ],
   "source": [
    "# removing additional placeholder/column for index\n",
    "df.drop(columns=[''], inplace=True)\n",
    "df[:5]"
   ]
  },
  {
   "cell_type": "markdown",
   "metadata": {},
   "source": [
    "### **Code & Analysis of Basic Characteristics of Dataset:** \n"
   ]
  },
  {
   "cell_type": "code",
   "execution_count": 24,
   "metadata": {},
   "outputs": [
    {
     "name": "stdout",
     "output_type": "stream",
     "text": [
      "There are 11700 data records in all_seasons.csv. \n"
     ]
    }
   ],
   "source": [
    "# displaying the total number of data using string and len inbuilt python function\n",
    "print(\"There are \" + str(len(data)) + \" data records in all_seasons.csv. \")"
   ]
  },
  {
   "cell_type": "code",
   "execution_count": 25,
   "metadata": {},
   "outputs": [
    {
     "name": "stdout",
     "output_type": "stream",
     "text": [
      "Q2) Here are the top 5 data records: \n",
      "[{'': '0', 'player_name': 'Travis Knight', 'team_abbreviation': 'LAL', 'age': '22.0', 'player_height': '213.36', 'player_weight': '106.59411999999999', 'college': 'Connecticut', 'country': 'USA', 'draft_year': '1996', 'draft_round': '1', 'draft_number': '29', 'gp': '71', 'pts': '4.8', 'reb': '4.5', 'ast': '0.5', 'net_rating': '6.2', 'oreb_pct': '0.127', 'dreb_pct': '0.182', 'usg_pct': '0.142', 'ts_pct': '0.536', 'ast_pct': '0.052000000000000005', 'season': '1996-97'}, {'': '1', 'player_name': 'Matt Fish', 'team_abbreviation': 'MIA', 'age': '27.0', 'player_height': '210.82', 'player_weight': '106.59411999999999', 'college': 'North Carolina-Wilmington', 'country': 'USA', 'draft_year': '1992', 'draft_round': '2', 'draft_number': '50', 'gp': '6', 'pts': '0.3', 'reb': '0.8', 'ast': '0.0', 'net_rating': '-15.1', 'oreb_pct': '0.14300000000000002', 'dreb_pct': '0.267', 'usg_pct': '0.265', 'ts_pct': '0.33299999999999996', 'ast_pct': '0.0', 'season': '1996-97'}, {'': '2', 'player_name': 'Matt Bullard', 'team_abbreviation': 'HOU', 'age': '30.0', 'player_height': '208.28', 'player_weight': '106.59411999999999', 'college': 'Iowa', 'country': 'USA', 'draft_year': 'Undrafted', 'draft_round': 'Undrafted', 'draft_number': 'Undrafted', 'gp': '71', 'pts': '4.5', 'reb': '1.6', 'ast': '0.9', 'net_rating': '0.9', 'oreb_pct': '0.016', 'dreb_pct': '0.115', 'usg_pct': '0.151', 'ts_pct': '0.535', 'ast_pct': '0.099', 'season': '1996-97'}, {'': '3', 'player_name': 'Marty Conlon', 'team_abbreviation': 'BOS', 'age': '29.0', 'player_height': '210.82', 'player_weight': '111.13004', 'college': 'Providence', 'country': 'USA', 'draft_year': 'Undrafted', 'draft_round': 'Undrafted', 'draft_number': 'Undrafted', 'gp': '74', 'pts': '7.8', 'reb': '4.4', 'ast': '1.4', 'net_rating': '-9.0', 'oreb_pct': '0.083', 'dreb_pct': '0.152', 'usg_pct': '0.16699999999999998', 'ts_pct': '0.542', 'ast_pct': '0.10099999999999999', 'season': '1996-97'}, {'': '4', 'player_name': 'Martin Muursepp', 'team_abbreviation': 'DAL', 'age': '22.0', 'player_height': '205.74', 'player_weight': '106.59411999999999', 'college': 'None', 'country': 'USA', 'draft_year': '1996', 'draft_round': '1', 'draft_number': '25', 'gp': '42', 'pts': '3.7', 'reb': '1.6', 'ast': '0.5', 'net_rating': '-14.5', 'oreb_pct': '0.109', 'dreb_pct': '0.11800000000000001', 'usg_pct': '0.233', 'ts_pct': '0.48200000000000004', 'ast_pct': '0.114', 'season': '1996-97'}]\n"
     ]
    }
   ],
   "source": [
    "print(\"Q2) Here are the top 5 data records: \")\n",
    "print(data[:5]) # using indexing to display the first 5 records"
   ]
  },
  {
   "cell_type": "code",
   "execution_count": 41,
   "metadata": {},
   "outputs": [
    {
     "name": "stdout",
     "output_type": "stream",
     "text": [
      "There are 2333 unique NBA player names in the dataset. Therefore, there are 2333 players that played in the National Basketball Association since 1996.\n",
      "\n",
      "Here are the first 100 player names from the unique_name dict. (List was too long to print completely): \n",
      "['J.J. Barea', 'Ed Davis', 'Reggie Miller', 'Mike Muscala', 'Jordan Nwora', 'Andrew Harrison', 'Tim Legler', 'Tony Battie', 'Jamario Moon', 'Chandler Hutchison', 'Grant Williams', 'Davis Bertans', 'Allen Crabbe', 'Maurice Baker', 'Randell Jackson', 'Devin Ebanks', 'DeMar DeRozan', 'Brandon Goodwin', 'Arinze Onuaku', 'Phil Pressey', 'Malcolm Delaney', 'Mario Bennett', 'Cory Higgins', 'Craig Smith', 'Isaiah Joe', 'Jarrell Brantley', 'Francisco Elson', 'Sim Bhullar', 'Vernon Maxwell', 'Marcus Cousin', 'Tony Smith', 'Tyrell Terry', 'Rik Smits', 'Wayne Ellington', 'Jared Reiner', 'Elias Harris', 'DJ White', 'Jeff Hornacek', 'Kenneth Faried', 'Paul Davis', 'Yogi Ferrell', 'Dakota Mathias', 'Kadeem Allen', 'Eric Riley', 'Alex Abrines', 'Hersey Hawkins', 'Dewan Hernandez', 'Ben Wallace', 'Sean Higgins', 'Antonius Cleveland']\n"
     ]
    }
   ],
   "source": [
    "# creating a set with all the player names from data to only include each unique team with no repeats\n",
    "unique_name = {player['player_name'] for player in data}\n",
    "# then displaying the length of unique_name as a string\n",
    "print(\"There are \" + str(len(unique_name)) + \" unique NBA player names in the dataset. Therefore, there are \" + str(len(unique_name)) + \" players that played in the National Basketball Association since 1996.\\n\")\n",
    "print(\"Here are the first 100 player names from the unique_name dict. (List was too long to print completely): \")\n",
    "print(list(unique_name)[:50])"
   ]
  },
  {
   "cell_type": "code",
   "execution_count": 27,
   "metadata": {},
   "outputs": [
    {
     "name": "stdout",
     "output_type": "stream",
     "text": [
      "Not all team names in the dataset are unique. There are 36 unique NBA teams in the dataset. Therefore, there are 36 teams that take part in the National Basketball Association since 1996.\n",
      "{'WAS', 'MIN', 'NOK', 'SEA', 'UTA', 'OKC', 'ORL', 'SAC', 'PHX', 'MIA', 'TOR', 'POR', 'PHI', 'IND', 'VAN', 'CLE', 'MIL', 'DAL', 'BKN', 'DEN', 'NOP', 'SAS', 'NYK', 'MEM', 'NOH', 'ATL', 'BOS', 'LAL', 'CHH', 'GSW', 'NJN', 'CHI', 'CHA', 'LAC', 'HOU', 'DET'}\n"
     ]
    }
   ],
   "source": [
    "# creating a set with all the teams from data to only include each unique team with no repeats\n",
    "unique_team = {team['team_abbreviation'] for team in data}\n",
    "# then displaying the length of unique_team as a string\n",
    "print(\"Not all team names in the dataset are unique. There are \" + str(len(unique_team)) + \" unique NBA teams in the dataset. Therefore, there are \" + str(len(unique_team)) + \" teams that take part in the National Basketball Association since 1996.\")\n",
    "print(unique_team)"
   ]
  },
  {
   "cell_type": "code",
   "execution_count": 42,
   "metadata": {},
   "outputs": [
    {
     "name": "stdout",
     "output_type": "stream",
     "text": [
      "Not all college names in the dataset are unique. There are 336 unique colleges where the NBA players played before coming to the NBA in the dataset.\n",
      "\n",
      "Here are the first 100 colleges from the unique_college dict. (List was too long to print completely): \n",
      "['William & Mary', 'Wisconsin-Green Bay', 'Texas Christian', 'Seton Hall', \"Saint Mary's (CA)\", 'Florida', \"St. Mary's (TX)\", 'Northeast Mississippi Community College', 'Nebraska-Lincoln', 'North Carolina-Wilmington', 'Rice', 'Hampton', 'Massachusetts', 'Oregon State', 'Oral Roberts', 'St. Louis', 'Louisiana-Monroe', 'Radford', 'Illinois', 'Morehead State', 'American University', 'Florida Gulf Coast', 'San Diego State', 'Hartford', 'Virginia Tech', 'Yonsei (KOR)', 'Midwestern State', 'Louisana-Lafayette', 'Wichita State', 'Tennessee Tech', 'Villanova', 'Wyoming', 'Robert Morris (IL)', 'Harvard', 'Texas-Austin', 'California-Irvine', 'Valparaiso', 'Northern Illinois', 'Mercer', 'Creighton', 'Illinois State', 'Seward County Community College', 'Georgetown', 'Jacksonville', 'Augustana (SD)', 'Dayton', 'Cal State-San Bernardino', 'Yale', 'Kent State', 'Western Carolina']\n"
     ]
    }
   ],
   "source": [
    "# creating a set with all the colleges from data to only include each unique college with no repeats\n",
    "unique_college = {player['college'] for player in data}\n",
    "# then displaying the length of unique_college as a string\n",
    "print(\"Not all college names in the dataset are unique. There are \" + str(len(unique_college)) + \" unique colleges where the NBA players played before coming to the NBA in the dataset.\\n\")\n",
    "print(\"Here are the first 100 colleges from the unique_college dict. (List was too long to print completely): \")\n",
    "print(list(unique_college)[:50])"
   ]
  },
  {
   "cell_type": "code",
   "execution_count": 29,
   "metadata": {},
   "outputs": [
    {
     "name": "stdout",
     "output_type": "stream",
     "text": [
      "Not all country names in the dataset are unique. There are 79 unique countries that the NBA players originated from in the dataset.\n",
      "\n",
      "{'Georgia', 'France', 'Guinea', 'Japan', 'Argentina', 'Saint Lucia', 'Switzerland', 'Puerto Rico', 'Slovenia', 'Poland', 'Ghana', 'Ukraine', 'Mali', 'Finland', 'Sweden', 'South Sudan', 'Italy', 'St. Vincent & Grenadines', 'Great Britain', 'Angola', 'Congo', 'Croatia', 'USA', 'Serbia', 'Republic of the Congo', 'Serbia and Montenegro', 'Russia', 'Jamaica', 'Dominican Republic', 'Germany', 'Panama', 'Trinidad and Tobago', 'Tunisia', 'Yugoslavia', 'Greece', 'United Kingdom', 'Latvia', 'Czech Republic', 'Spain', 'Israel', 'New Zealand', 'U.S. Virgin Islands', 'England', 'Senegal', 'Turkey', 'Egypt', 'Sudan (UK)', 'Sudan', 'Venezuela', 'China', 'Nigeria', 'Cameroon', 'Gabon', 'Uruguay', 'Tanzania', 'Bahamas', 'Brazil', 'Iran', 'South Korea', 'Australia', 'Netherlands', 'US Virgin Islands', 'DRC', 'Scotland', 'Democratic Republic of the Congo', 'Bosnia & Herzegovina', 'Austria', 'Mexico', 'Haiti', 'USSR', 'Belize', 'Montenegro', 'Ireland', 'Macedonia', 'Cabo Verde', 'Canada', 'Bosnia and Herzegovina', 'Lithuania', 'Bosnia'}\n"
     ]
    }
   ],
   "source": [
    "# creating a set with all the countries from data to only include each unique country with no repeats\n",
    "unique_country = {player['country'] for player in data}\n",
    "# then displaying the length of unique_country as a string\n",
    "print(\"Not all country names in the dataset are unique. There are \" + str(len(unique_country)) + \" unique countries that the NBA players originated from in the dataset.\\n\")\n",
    "print(unique_country)"
   ]
  },
  {
   "cell_type": "code",
   "execution_count": 30,
   "metadata": {},
   "outputs": [
    {
     "name": "stdout",
     "output_type": "stream",
     "text": [
      "Here is the dataset's range of years, in other words, the season range (oldest and newest): \n"
     ]
    },
    {
     "data": {
      "text/plain": [
       "'1996 to 2020'"
      ]
     },
     "execution_count": 30,
     "metadata": {},
     "output_type": "execute_result"
    }
   ],
   "source": [
    "'''\n",
    "Running the dataRangeFunc() by calling the 'reduce' function to display the range of years. \n",
    "'''\n",
    "\n",
    "# created a reducer function to loop through all the numerical years of the data\n",
    "def dataRangeFunc(state, player):\n",
    "    # compute a list of all the years\n",
    "    if state is None:\n",
    "        state = {\n",
    "        'min_year': player['season'].split('-')[0],\n",
    "        'max_year': player['season'].split('-')[0]\n",
    "        }\n",
    "    # continually update the 'min_year' & 'max_year'\n",
    "    else:\n",
    "        state['min_year'] = min(state['min_year'], player['season'].split('-')[0])\n",
    "        state['max_year'] = max(state['max_year'], player['season'].split('-')[0])\n",
    "\n",
    "    return state\n",
    "\n",
    "# run the reducer function and output 'min_year' and 'max_year' to display our range\n",
    "print(\"Here is the dataset's range of years, in other words, the season range (oldest and newest): \")\n",
    "reduce(dataRangeFunc, data, None)['min_year'] + \" to \" + reduce(dataRangeFunc, data, None)['max_year']"
   ]
  },
  {
   "cell_type": "markdown",
   "metadata": {},
   "source": [
    "## **EXPLORATORY DATA ANALYSIS**"
   ]
  },
  {
   "cell_type": "code",
   "execution_count": 31,
   "metadata": {},
   "outputs": [],
   "source": [
    "# 1) Calculate the percentage of players that were undrafted. \n",
    "#    * To see how many and what players were talented enough to directly sign with an NBA team instead of being drafted.\n"
   ]
  },
  {
   "cell_type": "code",
   "execution_count": 32,
   "metadata": {},
   "outputs": [],
   "source": [
    "# 2) What is the average age of the players by season?"
   ]
  },
  {
   "cell_type": "code",
   "execution_count": 33,
   "metadata": {},
   "outputs": [],
   "source": [
    "# 3) Find the top 5 colleges. \n",
    "#     * To see which colleges most players played for before coming to the NBA."
   ]
  },
  {
   "cell_type": "code",
   "execution_count": 34,
   "metadata": {},
   "outputs": [],
   "source": [
    "# 4) Find the top 5 countries NBA players are from. \n",
    "#     * To see what percentage of players from each unique country"
   ]
  },
  {
   "cell_type": "code",
   "execution_count": 35,
   "metadata": {},
   "outputs": [],
   "source": [
    "# 5) All-Star player from each unique country? (All-Star player defined as pts: 25+, reb: 7+, ast: 7+). "
   ]
  },
  {
   "cell_type": "code",
   "execution_count": 36,
   "metadata": {},
   "outputs": [],
   "source": [
    "# 6) Compare first-round, number-one player picks from each draft year.\n",
    "#     * To find out whether there were any NBA busts from the draft. "
   ]
  },
  {
   "cell_type": "code",
   "execution_count": 37,
   "metadata": {},
   "outputs": [],
   "source": [
    "# 7) Determine the position of each player (since it's not provided in the dataset). \n",
    "#     * To find the average height per position. "
   ]
  },
  {
   "cell_type": "code",
   "execution_count": 38,
   "metadata": {},
   "outputs": [],
   "source": [
    "# 8) Does the player's weight affect their performance? "
   ]
  },
  {
   "cell_type": "code",
   "execution_count": 39,
   "metadata": {},
   "outputs": [],
   "source": [
    "# 9) Who is the longest active player in the league? "
   ]
  },
  {
   "cell_type": "code",
   "execution_count": 40,
   "metadata": {},
   "outputs": [],
   "source": [
    "# 10) Find the player with the most points, rebounds, and assists, respectively, of all-time. "
   ]
  },
  {
   "cell_type": "markdown",
   "metadata": {},
   "source": [
    "## **POTENTIAL DATA SCIENCE**"
   ]
  },
  {
   "cell_type": "markdown",
   "metadata": {},
   "source": [
    "## **CONCLUSION**"
   ]
  },
  {
   "cell_type": "markdown",
   "metadata": {},
   "source": [
    "## **Description of Dataset:**\n",
    "\n",
    "The chosen dataset contains over two decades of statistics about each player that has been a part of the NBA (National Basketball Association). It is comprised of many variables including player age, height, weight, college attended, country born and game box scores. There are 22 data attributes in total offering a great range for data analysis.\n",
    "\n",
    "It was collected through the official NBA website and https://www.basketball-reference.com/ found via Kaggle from Justinas Cirtautas (https://www.kaggle.com/justinas/nba-players-data). This dataset represents the the details of each NBA player for each season from 1996 to 2021. \n",
    "\n",
    "### Here are the 22 attributes/columns in this dataset:\n",
    "\n",
    "* index                - Player index / Row number\n",
    "* player_name          - Name of player\n",
    "* team_abbreviation    - Abbreviated name of the team the player played for\n",
    "* age                  - Age of player\n",
    "* player_height        - Height of the player (cm)\n",
    "* player_weight        - Weight of the player (kg)\n",
    "* college              - Name of the college player attended\n",
    "* country              - Name of the country player was born in\n",
    "* draft_year           - The year the player was drafted\n",
    "* draft_round          - The draft round the player was picked\n",
    "* draft_number         - The draft number at which the player was picked in his draft round\n",
    "* gp                   - Games played throughout the season\n",
    "* pts                  - Average number of points scored\n",
    "* reb                  - Average number of rebounds grabbed\n",
    "* ast                  - Average number of assists distributed\n",
    "* net_rating           - Team’s point differential/100 possessions while player is on court\n",
    "* oreb_pct             - % of available offensive rebounds the player grabbed on court\n",
    "* dreb_pct             - % of available defensive rebounds the player grabbed on court\n",
    "* usg_pct              - % of team plays used by the player while on court\n",
    "* ts_pct               - Measure of player’s shooting efficiency\n",
    "* ast_pct              - % of teammate field goals the player assisted on court\n",
    "* season               - NBA season"
   ]
  },
  {
   "cell_type": "markdown",
   "metadata": {},
   "source": [
    "## **Proposal & Motivation:**\n",
    "\n"
   ]
  },
  {
   "cell_type": "markdown",
   "metadata": {},
   "source": [
    "### Why we chose this dataset?\n",
    "\n",
    "As big fans of the NBA and the sport of basketball, we found this dataset very interesting. There is a lot of interesting information regarding all the NBA players over the years and we are excited to study research questions pertaining to all players in the league. Unlike other datasets, this one is actually a topic of interest for us and gives us the opportunity to both practice data analysis and learn more about the sport we love!\n",
    "\n",
    "### Another dataset we considered:\n",
    "\n",
    "Yes! We were originally going to use another NBA dataset (https://www.kaggle.com/nathanlauga/nba-games?select=games.csv). It also had some very insightful data, however, we felt that it was far more focused on the NBA team's performances, rather than the players. As a group, we were more interested to research the data of the players to visualize talent existent within the league since 1996. "
   ]
  },
  {
   "cell_type": "markdown",
   "metadata": {},
   "source": [
    "## **Data Analysis Questions:**"
   ]
  },
  {
   "cell_type": "markdown",
   "metadata": {},
   "source": [
    "### Here are a few tentative questions that we would like to study for this dataset: \n",
    "\n",
    "1) Calculate the percentage of players that were undrafted. \n",
    "    * To see how many and what players were talented enough to directly sign with an NBA team instead of being drafted.\n",
    "2) What is the average age of the players by season?\n",
    "3) Find the top 5 colleges. \n",
    "    * To see which colleges most players played for before coming to the NBA.\n",
    "4) Find the top 5 countries NBA players are from. \n",
    "    * To see what percentage of players from each unique country\n",
    "5) All-Star player from each unique country? (All-Star player defined as pts: 25+, reb: 7+, ast: 7+). \n",
    "6) Compare first-round, number-one player picks from each draft year.\n",
    "    * To find out whether there were any NBA busts from the draft. \n",
    "7) Determine the position of each player (since it's not provided in the dataset). \n",
    "    * To find the average height per position. \n",
    "8) Does the player's weight affect their performance? \n",
    "9) Who is the longest active player in the league? \n",
    "10) Find the player with the most points, rebounds, and assists, respectively, of all-time. \n",
    "\n",
    "### Methods to Apply to Answer the above: \n",
    "\n",
    "To begin, we will utilize Python's in-built libraries extensively and use multiple functions such as, 'map', 'filter', and 'reduce'. We plan to primarily Numpy for the programming of most of the data as it is mostly comprised of numerical values. However, we expect to learn new things in the near future of this course, including Pandas and Mathplotlib. Both Pandas and Mathplotlib will help greatly to visualize and process the data in different aspects using graphs and charts. Furthermore, we will analyze the data using mathematical, statistical analysis, and attributes to complete conclusions to our questions of research.  \n",
    "\n",
    "### Potential for Data Science Applications: \n",
    "\n",
    "There is great potential to apply our knowledge of data science and translate it to the data of NBA players. We can predict players' performance and development over their NBA career. In a real-life scenario, we can recommend colleges to those interested to join the NBA for their future. We can also simulate the players' projected growth (whether they will become an all-star) and work with the coaching staff to provide them with such information, so they can make the essential adjustments to players' training and development. Most importantly, we would be able to visualize the diversity of players within the NBA. "
   ]
  }
 ],
 "metadata": {
  "interpreter": {
   "hash": "aee8b7b246df8f9039afb4144a1f6fd8d2ca17a180786b69acc140d282b71a49"
  },
  "kernelspec": {
   "display_name": "Python 3.9.5 64-bit",
   "name": "python3"
  },
  "language_info": {
   "codemirror_mode": {
    "name": "ipython",
    "version": 3
   },
   "file_extension": ".py",
   "mimetype": "text/x-python",
   "name": "python",
   "nbconvert_exporter": "python",
   "pygments_lexer": "ipython3",
   "version": "3.9.5"
  },
  "orig_nbformat": 4
 },
 "nbformat": 4,
 "nbformat_minor": 2
}
