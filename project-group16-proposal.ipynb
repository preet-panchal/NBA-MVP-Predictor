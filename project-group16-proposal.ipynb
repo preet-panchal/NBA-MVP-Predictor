{
 "cells": [
  {
   "cell_type": "markdown",
   "metadata": {},
   "source": [
    "# CSCI2000U - Scientific Data Analysis\n",
    "# Final Project: Proposal\n",
    "\n",
    "## **Project Group #:** 16\n",
    "\n",
    "### **Group Members & Student Numbers:** ###\n",
    "* **Mohammad** - 100755461\n",
    "* **Hasan Chakaroun** - 100788546\n",
    "* **Eihab Syed** - 100707448\n",
    "* **Preet Panchal** - 100707094\n",
    "\n",
    "### **Dataset Selected:** ###\n",
    "- **Name:** NBA Players Data - all_seasons.csv\n",
    "&nbsp;\n",
    "- **Source:** https://www.kaggle.com/justinas/nba-players-data\n",
    "&nbsp;\n",
    "- **Creator:** Justinas Cirtautas, Data Scientist\n"
   ]
  },
  {
   "cell_type": "markdown",
   "metadata": {},
   "source": [
    "## **Description of Dataset:**\n",
    "\n",
    "The chosen dataset contains over two decades of statistics about each player that has been a part of the NBA (National Basketball Association). It is comprised of many variables including player age, height, weight, college attended, country born and game box scores. There are 22 data attributes in total offering a great range for data analysis.\n",
    "\n",
    "It was collected through the official NBA website and https://www.basketball-reference.com/ found via Kaggle from Justinas Cirtautas (https://www.kaggle.com/justinas/nba-players-data). This dataset represents the the details of each NBA player for each season from 1996 to 2021. \n",
    "\n",
    "### Here are the 22 attributes/columns in this dataset:\n",
    "\n",
    "* index                - Player index / Row number\n",
    "* player_name          - Name of player\n",
    "* team_abbreviation    - Abbreviated name of the team the player played for\n",
    "* age                  - Age of player\n",
    "* player_height        - Height of the player (cm)\n",
    "* player_weight        - Weight of the player (kg)\n",
    "* college              - Name of the college player attended\n",
    "* country              - Name of the country player was born in\n",
    "* draft_year           - The year the player was drafted\n",
    "* draft_round          - The draft round the player was picked\n",
    "* draft_number         - The draft number at which the player was picked in his draft round\n",
    "* gp                   - Games played throughout the season\n",
    "* pts                  - Average number of points scored\n",
    "* reb                  - Average number of rebounds grabbed\n",
    "* ast                  - Average number of assists distributed\n",
    "* net_rating           - Team’s point differential/100 possessions while player is on court\n",
    "* oreb_pct             - % of available offensive rebounds the player grabbed on court\n",
    "* dreb_pct             - % of available defensive rebounds the player grabbed on court\n",
    "* usg_pct              - % of team plays used by the player while on court\n",
    "* ts_pct               - Measure of player’s shooting efficiency\n",
    "* ast_pct              - % of teammate field goals the player assisted on court\n",
    "* season               - NBA season"
   ]
  },
  {
   "cell_type": "markdown",
   "metadata": {},
   "source": [
    "## **Code & Analysis of Basic Characteristics of Dataset:** \n"
   ]
  },
  {
   "cell_type": "code",
   "execution_count": 2,
   "metadata": {},
   "outputs": [],
   "source": [
    "#importing used libraries\n",
    "import csv\n",
    "import re\n",
    "from functools import reduce\n",
    "import numpy as np\n",
    "\n",
    "# this aux function reads the CSV file and returns the data in a Python dictionary\n",
    "def get_data_csv():\n",
    "    collection = []\n",
    "    with open('all_seasons.csv', 'r') as f:\n",
    "        for line in csv.DictReader(f):\n",
    "            collection.append(line)\n",
    "        return collection\n",
    "        \n",
    "# the data    \n",
    "data = get_data_csv()"
   ]
  },
  {
   "cell_type": "code",
   "execution_count": 3,
   "metadata": {},
   "outputs": [
    {
     "name": "stdout",
     "output_type": "stream",
     "text": [
      "There are 11700 data records in all_seasons.csv. \n"
     ]
    }
   ],
   "source": [
    "# displaying the total number of data using string and len inbuilt python function\n",
    "print(\"There are \" + str(len(data)) + \" data records in all_seasons.csv. \")"
   ]
  },
  {
   "cell_type": "code",
   "execution_count": 4,
   "metadata": {},
   "outputs": [
    {
     "name": "stdout",
     "output_type": "stream",
     "text": [
      "Q2) Here are the top 5 data records: \n",
      "[{'': '0', 'player_name': 'Travis Knight', 'team_abbreviation': 'LAL', 'age': '22.0', 'player_height': '213.36', 'player_weight': '106.59411999999999', 'college': 'Connecticut', 'country': 'USA', 'draft_year': '1996', 'draft_round': '1', 'draft_number': '29', 'gp': '71', 'pts': '4.8', 'reb': '4.5', 'ast': '0.5', 'net_rating': '6.2', 'oreb_pct': '0.127', 'dreb_pct': '0.182', 'usg_pct': '0.142', 'ts_pct': '0.536', 'ast_pct': '0.052000000000000005', 'season': '1996-97'}, {'': '1', 'player_name': 'Matt Fish', 'team_abbreviation': 'MIA', 'age': '27.0', 'player_height': '210.82', 'player_weight': '106.59411999999999', 'college': 'North Carolina-Wilmington', 'country': 'USA', 'draft_year': '1992', 'draft_round': '2', 'draft_number': '50', 'gp': '6', 'pts': '0.3', 'reb': '0.8', 'ast': '0.0', 'net_rating': '-15.1', 'oreb_pct': '0.14300000000000002', 'dreb_pct': '0.267', 'usg_pct': '0.265', 'ts_pct': '0.33299999999999996', 'ast_pct': '0.0', 'season': '1996-97'}, {'': '2', 'player_name': 'Matt Bullard', 'team_abbreviation': 'HOU', 'age': '30.0', 'player_height': '208.28', 'player_weight': '106.59411999999999', 'college': 'Iowa', 'country': 'USA', 'draft_year': 'Undrafted', 'draft_round': 'Undrafted', 'draft_number': 'Undrafted', 'gp': '71', 'pts': '4.5', 'reb': '1.6', 'ast': '0.9', 'net_rating': '0.9', 'oreb_pct': '0.016', 'dreb_pct': '0.115', 'usg_pct': '0.151', 'ts_pct': '0.535', 'ast_pct': '0.099', 'season': '1996-97'}, {'': '3', 'player_name': 'Marty Conlon', 'team_abbreviation': 'BOS', 'age': '29.0', 'player_height': '210.82', 'player_weight': '111.13004', 'college': 'Providence', 'country': 'USA', 'draft_year': 'Undrafted', 'draft_round': 'Undrafted', 'draft_number': 'Undrafted', 'gp': '74', 'pts': '7.8', 'reb': '4.4', 'ast': '1.4', 'net_rating': '-9.0', 'oreb_pct': '0.083', 'dreb_pct': '0.152', 'usg_pct': '0.16699999999999998', 'ts_pct': '0.542', 'ast_pct': '0.10099999999999999', 'season': '1996-97'}, {'': '4', 'player_name': 'Martin Muursepp', 'team_abbreviation': 'DAL', 'age': '22.0', 'player_height': '205.74', 'player_weight': '106.59411999999999', 'college': 'None', 'country': 'USA', 'draft_year': '1996', 'draft_round': '1', 'draft_number': '25', 'gp': '42', 'pts': '3.7', 'reb': '1.6', 'ast': '0.5', 'net_rating': '-14.5', 'oreb_pct': '0.109', 'dreb_pct': '0.11800000000000001', 'usg_pct': '0.233', 'ts_pct': '0.48200000000000004', 'ast_pct': '0.114', 'season': '1996-97'}]\n"
     ]
    }
   ],
   "source": [
    "print(\"Q2) Here are the top 5 data records: \")\n",
    "print(data[:5]) # using indexing to display the first 5 records"
   ]
  },
  {
   "cell_type": "code",
   "execution_count": 5,
   "metadata": {},
   "outputs": [
    {
     "name": "stdout",
     "output_type": "stream",
     "text": [
      "There are 2333 unique NBA player names in the dataset. Therefore, there are 2333 players that played in the National Basketball Association since 1996.\n",
      "\n",
      "Here are the first 100 player names from the unique_name dict. (List was too long to print completely): \n",
      "['Jerome Kersey', 'Ha Ha', 'Ray Allen', 'Nate Wolters', 'Kevin Martin', 'Reggie Slater', 'Ian Mahinmi', \"Devonte' Graham\", 'William Howard', 'Kobe Bryant', 'Ervin Johnson', 'Spencer Dinwiddie', 'Terence Davis', 'Avery Johnson', 'Alex Poythress', 'Alec Peters', 'Trey Thompkins', 'Hakeem Olajuwon', 'Kyle Weaver', 'Deyonta Davis', 'Tremont Waters', 'Charlie Brown Jr.', 'Evan Fournier', 'Antonio Burks', 'Quentin Richardson', 'Norris Cole', 'Pascal Siakam', 'Dwight Powell', 'Raul Lopez', 'Jaden McDaniels', 'Yaroslav Korolev', 'Chris Singleton', 'Dylan Windler', 'Kenrich Williams', 'Viacheslav Kravtsov', 'Naz Reid', 'Lamar Stevens', 'Scott Williams', 'Boris Diaw', 'Trevor Winter', 'Wayne Simien', 'Alton Ford', 'Cory Joseph', 'Justin Jackson', 'Jeremy Richardson', 'Corey Maggette', 'Gerald Brown', 'Paul Pierce', 'Felipe Lopez', 'Willie Burton', 'Jarnell Stokes', 'Tobias Harris', 'Jason Thompson', 'Lynn Greer', 'Andre Brown', 'Jamal Crawford', 'Ike Fontaine', 'Yinka Dare', 'Will Solomon', 'Axel Toupane', 'Mile Ilic', 'Jonas Valanciunas', 'Jabari Bird', 'Jalen Rose', 'Jordan Poole', 'Dionte Christmas', 'Cam Reddish', 'Kurt Thomas', 'Josh Green', 'Brandon Williams', 'Pavel Podkolzin', 'Trevor Ariza', 'Scott Machado', 'Sean May', 'Maxi Kleber', 'Landry Shamet', 'Billy Garrett', 'Emanual Davis', 'Rick Brunson', 'Trajan Langdon', 'Tony Snell', 'Isaiah Roby', 'Rex Walters', 'Ricky Ledo', 'Bryon Russell', 'Maalik Wayns', 'Donatas Motiejunas', 'Fred Jones', 'Quincy Lewis', 'Stephen Curry', 'Thon Maker', 'Jonny Flynn', 'Ndudi Ebi', 'Guillermo Diaz', 'Vassilis Spanoulis', 'Kelly Olynyk', 'Greg Anderson', 'Oliver Lafayette', 'Elijah Millsap', 'Mike Bibby']\n"
     ]
    }
   ],
   "source": [
    "# creating a set with all the player names from data to only include each unique team with no repeats\n",
    "unique_name = {player['player_name'] for player in data}\n",
    "# then displaying the length of unique_name as a string\n",
    "print(\"There are \" + str(len(unique_name)) + \" unique NBA player names in the dataset. Therefore, there are \" + str(len(unique_name)) + \" players that played in the National Basketball Association since 1996.\\n\")\n",
    "print(\"Here are the first 100 player names from the unique_name dict. (List was too long to print completely): \")\n",
    "print(list(unique_name)[:100])"
   ]
  },
  {
   "cell_type": "code",
   "execution_count": 6,
   "metadata": {},
   "outputs": [
    {
     "name": "stdout",
     "output_type": "stream",
     "text": [
      "Not all team names in the dataset are unique. There are 36 unique NBA teams in the dataset. Therefore, there are 36 teams that take part in the National Basketball Association since 1996.\n",
      "{'SEA', 'PHI', 'WAS', 'NJN', 'CHH', 'CLE', 'NOH', 'CHA', 'DEN', 'DET', 'BKN', 'GSW', 'NYK', 'TOR', 'POR', 'SAC', 'VAN', 'HOU', 'MIN', 'CHI', 'PHX', 'UTA', 'MIA', 'ORL', 'IND', 'SAS', 'NOP', 'LAL', 'MIL', 'DAL', 'BOS', 'OKC', 'NOK', 'LAC', 'ATL', 'MEM'}\n"
     ]
    }
   ],
   "source": [
    "# creating a set with all the teams from data to only include each unique team with no repeats\n",
    "unique_team = {team['team_abbreviation'] for team in data}\n",
    "# then displaying the length of unique_team as a string\n",
    "print(\"Not all team names in the dataset are unique. There are \" + str(len(unique_team)) + \" unique NBA teams in the dataset. Therefore, there are \" + str(len(unique_team)) + \" teams that take part in the National Basketball Association since 1996.\")\n",
    "print(unique_team)"
   ]
  },
  {
   "cell_type": "code",
   "execution_count": 7,
   "metadata": {},
   "outputs": [
    {
     "name": "stdout",
     "output_type": "stream",
     "text": [
      "Not all college names in the dataset are unique. There are 336 unique colleges where the NBA players played before coming to the NBA in the dataset.\n",
      "\n",
      "Here are the first 100 colleges from the unique_college dict. (List was too long to print completely): \n",
      "['Gonzaga', 'Boston College', 'Delaware', 'Northern Arizona', 'Texas Christian', 'Nebraska-Lincoln', 'Montevallo', \"St. Mary's (TX)\", 'Virginia Union', 'Wisconsin-Stevens Point', 'South Carolina', 'Midland', 'Grand Canyon', 'North Carolina State', 'Truman State', 'Hampton', 'McNeese State', 'St. Bonaventure', 'La Salle', 'Tulsa', 'Cal State-Long Beach', 'Toledo', 'Oregon State', 'Clemson', 'Western Kentucky', 'Richmond', 'Indiana', 'Arizona', 'Texas-San Antonio', 'Thomas More', 'Old Dominion', 'Blinn', ' ', 'Pennsylvania', 'Westchester CC NY', 'Utah State', 'Delta State', 'Murray State', 'Duke', 'Yale', 'Bucknell', 'Alabama', 'Montana', 'Manhattan', \"St. Mary's (CA)\", 'Rutgers', 'Coppin State', 'Cincinnati', 'Connecticut', 'Marquette', 'Nicholls State', 'Lehigh', 'Penn State', 'George Mason', 'Northeast Mississippi Community College', 'Pepperdine', 'Oakland', 'Loyola (IL)', 'Hofstra', 'DePaul', \"St. John's (NY)\", 'Trinity Valley Community College', 'Augsburg', 'New Mexico', 'St. Louis', 'Ohio', 'Centenary (LA)', 'Houston', 'Nevada-Reno', 'New Orleans', 'Wisconsin-Green Bay', 'Wyoming', 'Nebraska', 'Albany State (GA)', 'Colorado State', 'Mississippi', 'California-Berkeley', 'Eastern Michigan', 'Michigan State', \"Master's\", 'Saint Rose', 'Northwestern State', 'Georgia Institute of Technology', 'Pacific', 'Boston U.', 'Eastern Washington', 'Montana State', 'Brigham Young', 'Seward County Community College', 'William & Mary', 'Washington State', 'Western Michigan', 'Tennessee-Martin', 'Delaware State', 'Minnesota', 'Rice', 'Xavier', 'Alabama-Birmingham', 'Syracuse', 'Cal Poly']\n"
     ]
    }
   ],
   "source": [
    "# creating a set with all the colleges from data to only include each unique college with no repeats\n",
    "unique_college = {player['college'] for player in data}\n",
    "# then displaying the length of unique_college as a string\n",
    "print(\"Not all college names in the dataset are unique. There are \" + str(len(unique_college)) + \" unique colleges where the NBA players played before coming to the NBA in the dataset.\\n\")\n",
    "print(\"Here are the first 100 colleges from the unique_college dict. (List was too long to print completely): \")\n",
    "print(list(unique_college)[:100])"
   ]
  },
  {
   "cell_type": "code",
   "execution_count": 8,
   "metadata": {},
   "outputs": [
    {
     "name": "stdout",
     "output_type": "stream",
     "text": [
      "Not all country names in the dataset are unique. There are 79 unique countries that the NBA players originated from in the dataset.\n",
      "\n",
      "{'Tanzania', 'Germany', 'Iran', 'Poland', 'Great Britain', 'Argentina', 'Senegal', 'Australia', 'Turkey', 'United Kingdom', 'Switzerland', 'Montenegro', 'Georgia', 'St. Vincent & Grenadines', 'Haiti', 'Bosnia & Herzegovina', 'Gabon', 'Nigeria', 'Bosnia', 'Italy', 'China', 'Croatia', 'Sudan (UK)', 'Bahamas', 'Ghana', 'Yugoslavia', 'England', 'US Virgin Islands', 'Scotland', 'Guinea', 'Belize', 'Tunisia', 'Ireland', 'Uruguay', 'Mexico', 'Egypt', 'Slovenia', 'Brazil', 'Cabo Verde', 'Angola', 'South Sudan', 'Netherlands', 'Trinidad and Tobago', 'USA', 'USSR', 'Japan', 'Greece', 'France', 'Austria', 'Dominican Republic', 'Ukraine', 'Cameroon', 'Jamaica', 'Venezuela', 'Panama', 'U.S. Virgin Islands', 'Lithuania', 'Latvia', 'New Zealand', 'Serbia and Montenegro', 'Saint Lucia', 'South Korea', 'Sweden', 'Sudan', 'Macedonia', 'Bosnia and Herzegovina', 'Finland', 'Israel', 'Democratic Republic of the Congo', 'Czech Republic', 'Congo', 'Canada', 'DRC', 'Republic of the Congo', 'Puerto Rico', 'Mali', 'Serbia', 'Spain', 'Russia'}\n"
     ]
    }
   ],
   "source": [
    "# creating a set with all the countries from data to only include each unique country with no repeats\n",
    "unique_country = {player['country'] for player in data}\n",
    "# then displaying the length of unique_country as a string\n",
    "print(\"Not all country names in the dataset are unique. There are \" + str(len(unique_country)) + \" unique countries that the NBA players originated from in the dataset.\\n\")\n",
    "print(unique_country)"
   ]
  },
  {
   "cell_type": "code",
   "execution_count": 10,
   "metadata": {},
   "outputs": [
    {
     "name": "stdout",
     "output_type": "stream",
     "text": [
      "Here is the dataset's range of years, in other words, the season range (oldest and newest): \n"
     ]
    },
    {
     "data": {
      "text/plain": [
       "'1996 to 2020'"
      ]
     },
     "execution_count": 10,
     "metadata": {},
     "output_type": "execute_result"
    }
   ],
   "source": [
    "'''\n",
    "Running the dataRangeFunc() by calling the 'reduce' function to display the range of years. \n",
    "'''\n",
    "\n",
    "# created a reducer function to loop through all the numerical years of the data\n",
    "def dataRangeFunc(state, player):\n",
    "    # compute a list of all the years\n",
    "    if state is None:\n",
    "        state = {\n",
    "        'min_year': player['season'].split('-')[0],\n",
    "        'max_year': player['season'].split('-')[0]\n",
    "        }\n",
    "    # continually update the 'min_year' & 'max_year'\n",
    "    else:\n",
    "        state['min_year'] = min(state['min_year'], player['season'].split('-')[0])\n",
    "        state['max_year'] = max(state['max_year'], player['season'].split('-')[0])\n",
    "\n",
    "    return state\n",
    "\n",
    "# run the reducer function and output 'min_year' and 'max_year' to display our range\n",
    "print(\"Here is the dataset's range of years, in other words, the season range (oldest and newest): \")\n",
    "reduce(dataRangeFunc, data, None)['min_year'] + \" to \" + reduce(dataRangeFunc, data, None)['max_year']"
   ]
  },
  {
   "cell_type": "markdown",
   "metadata": {},
   "source": [
    "## **Proposal & Motivation:**\n",
    "\n"
   ]
  },
  {
   "cell_type": "markdown",
   "metadata": {},
   "source": [
    "### Why we chose this dataset?\n",
    "\n",
    "As big fans of the NBA and the sport of basketball, we found this dataset very interesting. There is a lot of interesting information regarding all the NBA players over the years and we are excited to study research questions pertaining to all players in the league. Unlike other datasets, this one is actually a topic of interest for us and gives us the opportunity to both practice data analysis and learn more about the sport we love!\n",
    "\n",
    "### Another dataset we considered:\n",
    "\n",
    "Yes! We were originally going to use another NBA dataset (https://www.kaggle.com/nathanlauga/nba-games?select=games.csv). It also had some very insightful data, however, we felt that it was far more focused on the NBA team's performances, rather than the players. As a group, we were more interested to research the data of the players to visualize talent existent within the league since 1996. "
   ]
  },
  {
   "cell_type": "markdown",
   "metadata": {},
   "source": [
    "## **Data Analysis Questions:**"
   ]
  },
  {
   "cell_type": "markdown",
   "metadata": {},
   "source": [
    "### Here are a few tentative questions that we would like to study for this dataset: \n",
    "\n",
    "1) Calculate the percentage of players that were undrafted. \n",
    "    * To see how many and what players were talented enough to directly sign with an NBA team instead of being drafted.\n",
    "2) What is the average age of the players by season?\n",
    "3) Find the top 5 colleges. \n",
    "    * To see which colleges most players played for before coming to the NBA.\n",
    "4) Find the top 5 countries NBA players are from. \n",
    "    * To see what percentage of players from each unique country\n",
    "5) All-Star player from each unique country? (All-Star player defined as pts: 25+, reb: 7+, ast: 7+). \n",
    "6) Compare first-round, number-one player picks from each draft year.\n",
    "    * To find out whether there were any NBA busts from the draft. \n",
    "7) Determine the position of each player (since it's not provided in the dataset). \n",
    "    * To find the average height per position. \n",
    "8) Does the player's weight affect their performance? \n",
    "9) Who is the longest active player in the league? \n",
    "10) Find the player with the most points, rebounds, and assists, respectively, of all-time. \n",
    "\n",
    "### Methods to Apply to Answer the above: \n",
    "\n",
    "To begin, we will utilize Python's in-built libraries extensively and use multiple functions such as, 'map', 'filter', and 'reduce'. We plan to primarily Numpy for the programming of most of the data as it is mostly comprised of numerical values. However, we expect to learn new things in the near future of this course, including Pandas and Mathplotlib. Both Pandas and Mathplotlib will help greatly to visualize and process the data in different aspects using graphs and charts. Furthermore, we will analyze the data using mathematical, statistical analysis, and attributes to complete conclusions to our questions of research.  \n",
    "\n",
    "### Potential for Data Science Applications: \n",
    "\n",
    "There is great potential to apply our knowledge of data science and translate it to the data of NBA players. We can predict players' performance and development over their NBA career. In a real-life scenario, we can recommend colleges to those interested to join the NBA for their future. We can also simulate the players' projected growth (whether they will become an all-star) and work with the coaching staff to provide them with such information, so they can make the essential adjustments to players' training and development. Most importantly, we would be able to visualize the diversity of players within the NBA. "
   ]
  }
 ],
 "metadata": {
  "interpreter": {
   "hash": "aee8b7b246df8f9039afb4144a1f6fd8d2ca17a180786b69acc140d282b71a49"
  },
  "kernelspec": {
   "display_name": "Python 3.9.5 64-bit",
   "name": "python3"
  },
  "language_info": {
   "codemirror_mode": {
    "name": "ipython",
    "version": 3
   },
   "file_extension": ".py",
   "mimetype": "text/x-python",
   "name": "python",
   "nbconvert_exporter": "python",
   "pygments_lexer": "ipython3",
   "version": "3.9.5"
  },
  "orig_nbformat": 4
 },
 "nbformat": 4,
 "nbformat_minor": 2
}
